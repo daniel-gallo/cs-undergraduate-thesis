{
 "cells": [
  {
   "cell_type": "markdown",
   "source": [
    "### Patch sklearn (has to be done before importing anything from sklearn)"
   ],
   "metadata": {
    "collapsed": false
   }
  },
  {
   "cell_type": "code",
   "execution_count": null,
   "outputs": [],
   "source": [
    "from sklearnex import patch_sklearn\n",
    "\n",
    "patch_sklearn()"
   ],
   "metadata": {
    "collapsed": false,
    "pycharm": {
     "name": "#%%\n"
    }
   }
  },
  {
   "cell_type": "markdown",
   "source": [
    "### Load data"
   ],
   "metadata": {
    "collapsed": false
   }
  },
  {
   "cell_type": "code",
   "execution_count": null,
   "metadata": {
    "collapsed": true
   },
   "outputs": [],
   "source": [
    "from data_manager import DataManager\n",
    "\n",
    "X_train, y_train = DataManager.get_train()\n",
    "X_val, y_val = DataManager.get_validation()\n",
    "X_test, y_test = DataManager.get_test()"
   ]
  },
  {
   "cell_type": "markdown",
   "source": [
    "### Helper functions"
   ],
   "metadata": {
    "collapsed": false
   }
  },
  {
   "cell_type": "code",
   "execution_count": null,
   "outputs": [],
   "source": [
    "from formatter import export\n",
    "from matplotlib import pyplot as plt\n",
    "from sklearn.metrics import mean_absolute_error\n",
    "\n",
    "\n",
    "def get_error(model, X, y):\n",
    "    y_pred = model.predict(X)\n",
    "\n",
    "    return mean_absolute_error(y, y_pred)\n",
    "\n",
    "def get_pva(y_true, y_pred, model_name):\n",
    "    plt.xlabel('Actual value')\n",
    "    plt.ylabel('Predicted value')\n",
    "    plt.scatter(y_true, y_pred)\n",
    "    export(f'{model_name}_pva')\n",
    "    plt.close()\n",
    "    plt.cla()\n",
    "    plt.clf()\n"
   ],
   "metadata": {
    "collapsed": false,
    "pycharm": {
     "name": "#%%\n"
    }
   }
  },
  {
   "cell_type": "markdown",
   "source": [
    "## Benchmark"
   ],
   "metadata": {
    "collapsed": false
   }
  },
  {
   "cell_type": "code",
   "execution_count": null,
   "outputs": [],
   "source": [
    "from models import models_by_name\n",
    "from sklearn.metrics import mean_absolute_error\n",
    "import matplotlib.pyplot as plt\n",
    "import pandas as pd\n",
    "import numpy as np\n",
    "from timeit import default_timer as timer\n",
    "\n",
    "\n",
    "for model_name, get_model in models_by_name.items():\n",
    "    if model_name != 'custom_mlp': continue\n",
    "    print(f'\\n[*] Going with {model_name}...')\n",
    "\n",
    "    print('\\tFitting training...')\n",
    "    model = get_model()\n",
    "    model.fit(X_train, y_train)\n",
    "    print(f'\\t\\tTrain error: {get_error(model, X_train, y_train):.5f}')\n",
    "    print(f'\\t\\tEvaluation error: {get_error(model, X_val, y_val):.5f}')\n",
    "\n",
    "    print('\\tFitting training + validation')\n",
    "    model = get_model()\n",
    "\n",
    "    start = timer()\n",
    "    model.fit(pd.concat((X_train, X_val)), np.concatenate((y_train, y_val)))\n",
    "    end = timer()\n",
    "    training_time = end - start\n",
    "\n",
    "    start = timer()\n",
    "    y_pred = model.predict(X_test)\n",
    "    test_mae = mean_absolute_error(y_test, y_pred)\n",
    "    end = timer()\n",
    "    prediction_time = end - start\n",
    "    get_pva(y_test, y_pred, model_name)\n",
    "\n",
    "    print(f'\\t\\tTest error: {test_mae:.5f}')\n",
    "    print(f'\\t\\tTraining time: {training_time:.2f} s')\n",
    "    print(f'\\t\\tPrediction time: {prediction_time:.2f} s')"
   ],
   "metadata": {
    "collapsed": false,
    "pycharm": {
     "name": "#%%\n"
    }
   }
  }
 ],
 "metadata": {
  "kernelspec": {
   "display_name": "Python 3",
   "language": "python",
   "name": "python3"
  },
  "language_info": {
   "codemirror_mode": {
    "name": "ipython",
    "version": 2
   },
   "file_extension": ".py",
   "mimetype": "text/x-python",
   "name": "python",
   "nbconvert_exporter": "python",
   "pygments_lexer": "ipython2",
   "version": "2.7.6"
  }
 },
 "nbformat": 4,
 "nbformat_minor": 0
}